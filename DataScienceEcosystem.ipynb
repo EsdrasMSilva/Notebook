{
 "cells": [
  {
   "cell_type": "markdown",
   "id": "3c7cc313-da24-49ad-9dbc-dff6adc74e44",
   "metadata": {
    "tags": []
   },
   "source": [
    "<center>\n",
    "    <img src=\"https://cf-courses-data.s3.us.cloud-object-storage.appdomain.cloud/IBMDeveloperSkillsNetwork-DS0105EN-SkillsNetwork/labs/Module2/images/SN_web_lightmode.png\" width=\"300\" alt=\"cognitiveclass.ai logo\">\n",
    "</center>\n"
   ]
  },
  {
   "cell_type": "markdown",
   "id": "0e7183e1-6b94-4720-9fcd-b0e28dcf09f0",
   "metadata": {
    "jp-MarkdownHeadingCollapsed": true,
    "tags": []
   },
   "source": [
    "#### Add your code below following the instructions given in the course\n"
   ]
  },
  {
   "cell_type": "markdown",
   "id": "963eb753-de41-4574-907a-00fe73047041",
   "metadata": {},
   "source": [
    "# Data Science Tools and Ecosystem"
   ]
  },
  {
   "cell_type": "markdown",
   "id": "bde573cf-a8f4-4a02-99aa-7bc7c8269e14",
   "metadata": {},
   "source": [
    "In this notebook, Data Science Tools and Ecosystems are summarized."
   ]
  },
  {
   "cell_type": "markdown",
   "id": "3dc6a5e2-226e-4f93-8e15-93b6464fb585",
   "metadata": {},
   "source": [
    "_Objectives:_\n",
    "+ List popular languages for data science.\n",
    "+ List libraries that are commonly used by data scientists.\n",
    "+ List some of the most common data science tools.\n",
    "+ Demonstrate arithmetic expressions in python."
   ]
  },
  {
   "cell_type": "markdown",
   "id": "5a8a917c-1e87-4355-81ae-5e6a93c61881",
   "metadata": {},
   "source": [
    "## Author\n",
    "Esdras M. da Silva"
   ]
  },
  {
   "cell_type": "markdown",
   "id": "66be3618-47af-450d-a011-33828d5458de",
   "metadata": {},
   "source": [
    "Some of the popular languages that data scientists use are:\n",
    "1. Python\n",
    "2. R\n",
    "3. C++\n",
    "4. SQL"
   ]
  },
  {
   "cell_type": "markdown",
   "id": "35209c3b-dcdc-4eb8-a61e-ce07410e00a9",
   "metadata": {
    "tags": []
   },
   "source": [
    "Some of the commonly use libraries used by data scientists are:\n",
    "1. Pandas\n",
    "2. NumPy\n",
    "3. Dplyr\n",
    "4. TensorFlow"
   ]
  },
  {
   "cell_type": "markdown",
   "id": "42bda1ae-7ffb-4916-93c0-6a390831d796",
   "metadata": {
    "tags": []
   },
   "source": [
    "|Data Science Tools|\n",
    "--\n",
    "|Jupyter Notebook|\n",
    "|Apache Hadoop|\n",
    "|Apache Spark|"
   ]
  },
  {
   "cell_type": "markdown",
   "id": "c3182db2-054e-4815-b47d-a5deb01345f8",
   "metadata": {},
   "source": [
    "### Bellow are a few examples of evaluating arithmetic expressions in python:"
   ]
  },
  {
   "cell_type": "code",
   "execution_count": 3,
   "id": "106d40b4-09c4-4d5c-86ae-e8ea0bf22ebb",
   "metadata": {
    "tags": []
   },
   "outputs": [],
   "source": [
    "# This is a simple arithmetic expression to multiply then add integers"
   ]
  },
  {
   "cell_type": "code",
   "execution_count": 4,
   "id": "c4e073c0-0241-4234-b1d5-872bbf4195ab",
   "metadata": {
    "tags": []
   },
   "outputs": [
    {
     "data": {
      "text/plain": [
       "17"
      ]
     },
     "execution_count": 4,
     "metadata": {},
     "output_type": "execute_result"
    }
   ],
   "source": [
    "(3*4)+5"
   ]
  },
  {
   "cell_type": "code",
   "execution_count": null,
   "id": "a9bb6074-2c87-4501-a9c3-69baa117b142",
   "metadata": {},
   "outputs": [],
   "source": [
    "# This will convert 200 minutes into hours by dividing by 60"
   ]
  },
  {
   "cell_type": "code",
   "execution_count": 5,
   "id": "91c0d9ab-c5cd-4b27-b307-b7fc0100bac5",
   "metadata": {
    "tags": []
   },
   "outputs": [
    {
     "data": {
      "text/plain": [
       "3.3333333333333335"
      ]
     },
     "execution_count": 5,
     "metadata": {},
     "output_type": "execute_result"
    }
   ],
   "source": [
    "200/60"
   ]
  },
  {
   "cell_type": "code",
   "execution_count": null,
   "id": "e126e0e6-972f-4cbd-a04a-96b2e9049f7f",
   "metadata": {},
   "outputs": [],
   "source": []
  }
 ],
 "metadata": {
  "kernelspec": {
   "display_name": "Python",
   "language": "python",
   "name": "conda-env-python-py"
  },
  "language_info": {
   "codemirror_mode": {
    "name": "ipython",
    "version": 3
   },
   "file_extension": ".py",
   "mimetype": "text/x-python",
   "name": "python",
   "nbconvert_exporter": "python",
   "pygments_lexer": "ipython3",
   "version": "3.7.12"
  }
 },
 "nbformat": 4,
 "nbformat_minor": 5
}
